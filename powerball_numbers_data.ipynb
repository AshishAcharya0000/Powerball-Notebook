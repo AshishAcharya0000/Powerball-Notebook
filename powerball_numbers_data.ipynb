{
  "nbformat": 4,
  "nbformat_minor": 0,
  "metadata": {
    "colab": {
      "name": "powerball_numbers_data.ipynb",
      "provenance": [],
      "collapsed_sections": []
    },
    "kernelspec": {
      "name": "python3",
      "display_name": "Python 3"
    },
    "language_info": {
      "name": "python"
    }
  },
  "cells": [
    {
      "cell_type": "markdown",
      "metadata": {
        "id": "jjdiQElbDh92"
      },
      "source": [
        "## **Preamble**\n",
        "Title: Powerball Winners Data (2021)\n",
        "\n",
        "Author: Ashish Acharya\n",
        "\n",
        "Email: ashishacharya0@gmail.com\n",
        "\n",
        "Last Update: 2021-09-29"
      ]
    },
    {
      "cell_type": "markdown",
      "metadata": {
        "id": "f1-OWESrEA3G"
      },
      "source": [
        "## **Introduction**\n",
        "This report analyses the Powerball winners numbers in 2020. Data for this report was obtained from information published by lotto.net.\n"
      ]
    },
    {
      "cell_type": "markdown",
      "metadata": {
        "id": "HUx0vtU0EJ22"
      },
      "source": [
        "## **Dataset**\n",
        "The dataset for this report was built from informaton published daily at [Powerball Numbers from 2020](https://www.lotto.net/powerball/numbers/2020). Web scraping techniques were employed to compile the winning numbers. \n",
        "\n",
        "About Powerball: Powerball is an America lottery game in which a player picks 5 numbers from [1-69] and 1 number from [1-26] for a given drawing. They have options for powerplay which adds to the jackpot. The more numbers a player matches to the jackpot number, the bigger the payout.\n",
        "\n",
        "I have chosen 2020 as the data to work with because it shows a complete picture of how the drawing pool looks like at the end of a year.\n",
        "\n",
        "The script below automatically extracts Winning numbers. The information is saved in a json file (powerball_numbers_data.json) with the following structure:\n",
        "```\n",
        "[\n",
        "  {\"date\": \"December 30th 2020\", \"numbers\": [3,43,45,61,65]},\n",
        "  ...\n",
        "  {\"date\": \"January 1st 2020\", \"numbers\": [49,53,57,59,62]}\n",
        "]\n",
        "```\n",
        "\n"
      ]
    },
    {
      "cell_type": "code",
      "metadata": {
        "colab": {
          "base_uri": "https://localhost:8080/"
        },
        "id": "4Syl_5TNFYMQ",
        "outputId": "5514f4ff-7e46-40b8-9266-9d9da15c5904"
      },
      "source": [
        "# CS390Z - Introduction to Data Minining - Fall 2021\n",
        "# Instructor: Thyago Mota\n",
        "# Description: data collection\n",
        "# Author: Ashish Acharya\n",
        "\n",
        "from bs4 import BeautifulSoup\n",
        "from google.colab import drive\n",
        "from datetime import datetime, timedelta\n",
        "import requests\n",
        "import json\n",
        "import time\n",
        "\n",
        "# definitions/parameters\n",
        "DATA_FOLDER = '/content/drive/MyDrive/Colab_Datasets/powerball_numbers_data/'\n",
        "DATASET_NAME = 'powerball_numbers_data.json'\n",
        "BASE_URL = 'https://www.lotto.net/powerball/numbers/2020'\n",
        "HEADERS = {\"User-Agent\": \"Mozilla/5.0 (X11; CrOS x86_64 12871.102.0) AppleWebKit/537.36 (KHTML, like Gecko) Chrome/81.0.4044.141 Safari/537.36\"}\n",
        "records = [] #dict for json dump\n",
        "winning_numbers_list = []\n",
        "# Google drive mount\n",
        "# drive.mount('/content/drive')\n",
        "\n",
        "result = requests.get(BASE_URL)\n",
        "# 200 means its successful\n",
        "if result.status_code == 200:\n",
        "  soup = BeautifulSoup(result.content, 'html.parser')\n",
        "  #to check if you actually got anything\n",
        "  #print(soup) \n",
        "\n",
        "  #the information for 1 drawing - 5 winning numbers & the powerball number\n",
        "  # are stored in the results-vsmall archive list.\n",
        "  # we find all of them and extract data from them\n",
        "  divs = soup.find_all('div', class_=\"results-vsmall archive-list\")\n",
        "  for div in divs:\n",
        "    #print to check what you are working with\n",
        "    #print(div)  \n",
        "\n",
        "    #There is an unwanted information \"Day\", the day on which the numbers were drawn\n",
        "    #we use extract to remove it and just get Month, Date and Year\n",
        "    date = div.find('div', class_='date')\n",
        "    unwanted = date.find('span')\n",
        "    unwanted.extract()\n",
        "    #there is a newline character before the date so we strip it\n",
        "    date = date.text.strip()\n",
        "    #print(\"Date:\", date)\n",
        "\n",
        "    #this holds the 5 winning numbers\n",
        "    winning_numbers = div.find_all('li', class_='ball ball')\n",
        "\n",
        "    #printing the 5 winning numbers\n",
        "    for numbers in winning_numbers:\n",
        "      winning_number = numbers.text\n",
        "      winning_numbers_list.append(int(winning_number))\n",
        "      #print(\"Winning Number:\", winning_number)\n",
        "    #print(winning_numbers_list)\n",
        "   \n",
        "    #printing the powerball number\n",
        "    powerball_number = div.find('li', class_='ball power-play')\n",
        "    span = powerball_number.find('span') #span holds the power-ball number\n",
        "    span = int(span.text)\n",
        "    #print(\"Powerball Number:\", span.text)\n",
        "\n",
        "    #write numbers to dictionary\n",
        "    records.append({'date': date, 'numbers': winning_numbers_list[0:6]})\n",
        "    #powerball numbers have been ommitted since their range is 1-26\n",
        "    #which would need a separate handling of their own\n",
        "    #just need duplicate code to append numbers[6] separately in later parts\n",
        "    #of the code for statistics and graph\n",
        "    #records[date].append(span)\n",
        "\n",
        "    #reset list\n",
        "    winning_numbers_list.clear()\n",
        "\n",
        "  \n",
        "print(records)\n",
        "\n",
        "with open(DATA_FOLDER + DATASET_NAME, 'w') as json_file:\n",
        "   json.dump(records, json_file, ensure_ascii=False, indent=2)\n"
      ],
      "execution_count": 24,
      "outputs": [
        {
          "output_type": "stream",
          "name": "stdout",
          "text": [
            "[{'date': 'December 30th 2020', 'numbers': [3, 43, 45, 61, 65]}, {'date': 'December 26th 2020', 'numbers': [10, 24, 27, 35, 53]}, {'date': 'December 23rd 2020', 'numbers': [6, 13, 38, 39, 53]}, {'date': 'December 19th 2020', 'numbers': [27, 32, 34, 43, 52]}, {'date': 'December 16th 2020', 'numbers': [4, 23, 37, 61, 67]}, {'date': 'December 12th 2020', 'numbers': [17, 54, 56, 63, 69]}, {'date': 'December 9th 2020', 'numbers': [11, 14, 31, 47, 48]}, {'date': 'December 5th 2020', 'numbers': [3, 4, 6, 48, 53]}, {'date': 'December 2nd 2020', 'numbers': [28, 31, 40, 41, 46]}, {'date': 'November 28th 2020', 'numbers': [8, 12, 18, 44, 51]}, {'date': 'November 25th 2020', 'numbers': [2, 57, 58, 60, 65]}, {'date': 'November 21st 2020', 'numbers': [51, 54, 57, 60, 69]}, {'date': 'November 18th 2020', 'numbers': [4, 5, 17, 43, 52]}, {'date': 'November 14th 2020', 'numbers': [7, 15, 18, 32, 45]}, {'date': 'November 11th 2020', 'numbers': [13, 15, 17, 45, 63]}, {'date': 'November 7th 2020', 'numbers': [14, 16, 37, 48, 58]}, {'date': 'November 4th 2020', 'numbers': [23, 32, 33, 45, 49]}, {'date': 'October 31st 2020', 'numbers': [2, 6, 40, 42, 55]}, {'date': 'October 28th 2020', 'numbers': [11, 28, 37, 40, 53]}, {'date': 'October 24th 2020', 'numbers': [18, 20, 27, 45, 65]}, {'date': 'October 21st 2020', 'numbers': [1, 3, 13, 44, 56]}, {'date': 'October 17th 2020', 'numbers': [6, 10, 31, 37, 44]}, {'date': 'October 14th 2020', 'numbers': [21, 37, 52, 53, 58]}, {'date': 'October 10th 2020', 'numbers': [5, 18, 23, 40, 50]}, {'date': 'October 7th 2020', 'numbers': [6, 24, 30, 53, 56]}, {'date': 'October 3rd 2020', 'numbers': [18, 31, 36, 43, 47]}, {'date': 'September 30th 2020', 'numbers': [14, 18, 36, 49, 67]}, {'date': 'September 26th 2020', 'numbers': [11, 21, 27, 36, 62]}, {'date': 'September 23rd 2020', 'numbers': [8, 17, 49, 52, 59]}, {'date': 'September 19th 2020', 'numbers': [11, 14, 23, 47, 57]}, {'date': 'September 16th 2020', 'numbers': [10, 17, 31, 51, 53]}, {'date': 'September 12th 2020', 'numbers': [16, 17, 20, 53, 67]}, {'date': 'September 9th 2020', 'numbers': [27, 52, 55, 60, 64]}, {'date': 'September 5th 2020', 'numbers': [15, 21, 22, 27, 47]}, {'date': 'September 2nd 2020', 'numbers': [1, 4, 11, 20, 69]}, {'date': 'August 29th 2020', 'numbers': [5, 21, 22, 29, 43]}, {'date': 'August 26th 2020', 'numbers': [8, 12, 19, 47, 58]}, {'date': 'August 22nd 2020', 'numbers': [19, 30, 36, 42, 66]}, {'date': 'August 19th 2020', 'numbers': [13, 23, 47, 55, 58]}, {'date': 'August 15th 2020', 'numbers': [5, 12, 34, 45, 56]}, {'date': 'August 12th 2020', 'numbers': [2, 6, 18, 36, 37]}, {'date': 'August 8th 2020', 'numbers': [2, 3, 14, 40, 51]}, {'date': 'August 5th 2020', 'numbers': [7, 14, 17, 57, 65]}, {'date': 'August 1st 2020', 'numbers': [6, 25, 36, 43, 48]}, {'date': 'July 29th 2020', 'numbers': [7, 29, 35, 40, 45]}, {'date': 'July 25th 2020', 'numbers': [5, 21, 36, 61, 62]}, {'date': 'July 22nd 2020', 'numbers': [16, 25, 36, 44, 55]}, {'date': 'July 18th 2020', 'numbers': [13, 16, 32, 58, 59]}, {'date': 'July 15th 2020', 'numbers': [27, 47, 61, 62, 69]}, {'date': 'July 11th 2020', 'numbers': [14, 19, 61, 62, 64]}, {'date': 'July 8th 2020', 'numbers': [3, 10, 34, 36, 62]}, {'date': 'July 4th 2020', 'numbers': [16, 21, 27, 60, 61]}, {'date': 'July 1st 2020', 'numbers': [15, 28, 52, 53, 63]}, {'date': 'June 27th 2020', 'numbers': [9, 36, 49, 56, 62]}, {'date': 'June 24th 2020', 'numbers': [15, 22, 27, 33, 46]}, {'date': 'June 20th 2020', 'numbers': [10, 31, 41, 63, 67]}, {'date': 'June 17th 2020', 'numbers': [7, 10, 63, 64, 68]}, {'date': 'June 13th 2020', 'numbers': [2, 12, 32, 50, 65]}, {'date': 'June 10th 2020', 'numbers': [10, 33, 41, 52, 54]}, {'date': 'June 6th 2020', 'numbers': [1, 17, 38, 68, 69]}, {'date': 'June 3rd 2020', 'numbers': [1, 3, 26, 41, 64]}, {'date': 'May 30th 2020', 'numbers': [13, 32, 41, 58, 60]}, {'date': 'May 27th 2020', 'numbers': [38, 58, 59, 64, 68]}, {'date': 'May 23rd 2020', 'numbers': [2, 8, 18, 21, 23]}, {'date': 'May 20th 2020', 'numbers': [18, 34, 40, 42, 50]}, {'date': 'May 16th 2020', 'numbers': [8, 12, 26, 39, 42]}, {'date': 'May 13th 2020', 'numbers': [39, 53, 54, 56, 57]}, {'date': 'May 9th 2020', 'numbers': [12, 18, 42, 48, 65]}, {'date': 'May 6th 2020', 'numbers': [7, 8, 35, 50, 65]}, {'date': 'May 2nd 2020', 'numbers': [13, 16, 33, 58, 68]}, {'date': 'April 29th 2020', 'numbers': [2, 20, 49, 61, 67]}, {'date': 'April 25th 2020', 'numbers': [1, 3, 21, 47, 57]}, {'date': 'April 22nd 2020', 'numbers': [1, 33, 35, 40, 69]}, {'date': 'April 18th 2020', 'numbers': [4, 44, 46, 56, 63]}, {'date': 'April 15th 2020', 'numbers': [10, 12, 33, 36, 41]}, {'date': 'April 11th 2020', 'numbers': [22, 29, 30, 42, 47]}, {'date': 'April 8th 2020', 'numbers': [2, 37, 39, 48, 54]}, {'date': 'April 4th 2020', 'numbers': [8, 31, 39, 40, 43]}, {'date': 'April 1st 2020', 'numbers': [33, 35, 45, 48, 60]}, {'date': 'March 28th 2020', 'numbers': [7, 40, 48, 55, 66]}, {'date': 'March 25th 2020', 'numbers': [5, 9, 27, 39, 42]}, {'date': 'March 21st 2020', 'numbers': [2, 23, 40, 59, 69]}, {'date': 'March 18th 2020', 'numbers': [15, 27, 44, 59, 63]}, {'date': 'March 14th 2020', 'numbers': [9, 23, 26, 30, 32]}, {'date': 'March 11th 2020', 'numbers': [4, 29, 49, 50, 67]}, {'date': 'March 7th 2020', 'numbers': [7, 15, 21, 33, 62]}, {'date': 'March 4th 2020', 'numbers': [18, 43, 58, 60, 68]}, {'date': 'February 29th 2020', 'numbers': [24, 44, 46, 50, 51]}, {'date': 'February 26th 2020', 'numbers': [8, 27, 29, 36, 47]}, {'date': 'February 22nd 2020', 'numbers': [25, 37, 39, 61, 62]}, {'date': 'February 19th 2020', 'numbers': [10, 12, 15, 19, 56]}, {'date': 'February 15th 2020', 'numbers': [16, 32, 35, 36, 46]}, {'date': 'February 12th 2020', 'numbers': [14, 47, 54, 55, 68]}, {'date': 'February 8th 2020', 'numbers': [35, 49, 50, 59, 66]}, {'date': 'February 5th 2020', 'numbers': [23, 30, 35, 41, 57]}, {'date': 'February 1st 2020', 'numbers': [12, 33, 54, 57, 60]}, {'date': 'January 29th 2020', 'numbers': [9, 12, 15, 31, 60]}, {'date': 'January 25th 2020', 'numbers': [2, 9, 17, 36, 67]}, {'date': 'January 22nd 2020', 'numbers': [11, 33, 44, 59, 67]}, {'date': 'January 18th 2020', 'numbers': [20, 24, 38, 56, 68]}, {'date': 'January 15th 2020', 'numbers': [39, 41, 53, 55, 68]}, {'date': 'January 11th 2020', 'numbers': [3, 21, 23, 31, 59]}, {'date': 'January 8th 2020', 'numbers': [2, 4, 7, 43, 56]}, {'date': 'January 4th 2020', 'numbers': [1, 11, 21, 25, 54]}, {'date': 'January 1st 2020', 'numbers': [49, 53, 57, 59, 62]}]\n"
          ]
        }
      ]
    },
    {
      "cell_type": "markdown",
      "metadata": {
        "id": "Ey9lUpTCybUC"
      },
      "source": [
        "# Summary Statistics"
      ]
    },
    {
      "cell_type": "code",
      "metadata": {
        "colab": {
          "base_uri": "https://localhost:8080/"
        },
        "id": "7pZNzyCuyXrb",
        "outputId": "acf7ad5b-d9ee-463f-fb35-a7eb4a22b23a"
      },
      "source": [
        "# CS390Z - Introduction to Data Minining - Fall 2021\n",
        "# Instructor: Thyago Mota\n",
        "# Description: summary statistics\n",
        "\n",
        "import json\n",
        "from google.colab import drive\n",
        "from datetime import datetime, timedelta\n",
        "import numpy as np\n",
        "\n",
        "# definitions/parameters\n",
        "DATA_FOLDER = '/content/drive/MyDrive/Colab_Datasets/powerball_numbers_data/'\n",
        "DATASET_NAME = 'powerball_numbers_data.json'\n",
        "\n",
        "# Google drive mount\n",
        "# drive.mount('/content/drive')\n",
        "\n",
        "with open(DATA_FOLDER + DATASET_NAME, 'rt') as json_file:\n",
        "  records = json.load(json_file)\n",
        "\n",
        "numbers = []\n",
        "for record in records:\n",
        "  for num in record['numbers']:\n",
        "    numbers.append(num)\n",
        "#print(numbers)\n",
        "numbers_array = np.array(numbers)\n",
        "\n",
        "print('*** Summary Statistics ***')\n",
        "print(f'#records: {len(records)}')\n",
        "# [1-69] is expected and it is what we get\n",
        "print(f'Numbers range: [{np.min(numbers_array)},{np.max(numbers_array)}]')\n",
        "print('Numbers mean: {:.2f}'.format(np.mean(numbers_array)))\n",
        "print('Numbers median: {:.2f}'.format(np.median(numbers_array)))\n",
        "print('Numbers std: {:.2f}'.format(np.std(numbers_array)))"
      ],
      "execution_count": 65,
      "outputs": [
        {
          "output_type": "stream",
          "name": "stdout",
          "text": [
            "*** Summary Statistics ***\n",
            "#records: 105\n",
            "Numbers range: [1,69]\n",
            "Numbers mean: 35.25\n",
            "Numbers median: 36.00\n",
            "Numbers std: 19.92\n"
          ]
        }
      ]
    },
    {
      "cell_type": "markdown",
      "metadata": {
        "id": "CVaTp7pLAeMU"
      },
      "source": [
        "# Visualizations"
      ]
    },
    {
      "cell_type": "code",
      "metadata": {
        "colab": {
          "base_uri": "https://localhost:8080/",
          "height": 295
        },
        "id": "Cnpsf4kBAhUx",
        "outputId": "1846d27d-1ae2-4f61-e217-146a5513d277"
      },
      "source": [
        "# CS390Z - Introduction to Data Minining - Fall 2021\n",
        "# Instructor: Thyago Mota\n",
        "# Description: histogram\n",
        "\n",
        "from google.colab import drive\n",
        "import matplotlib.pyplot as plt \n",
        "\n",
        "# definitions/parameters\n",
        "DATA_FOLDER = '/content/drive/MyDrive/Colab_Datasets/powerball_numbers_data/'\n",
        "DATASET_NAME = 'powerball_numbers_data.json'\n",
        "\n",
        "# Google drive mount\n",
        "# drive.mount('/content/drive')\n",
        "\n",
        "with open(DATA_FOLDER + DATASET_NAME, 'rt') as json_file:\n",
        "  records = json.load(json_file)\n",
        "\n",
        "numbers = []\n",
        "for record in records:\n",
        "  for num in record['numbers']:\n",
        "    numbers.append(num)\n",
        "#print(numbers)\n",
        "\n",
        "bins = list(range(1, 69, 5))\n",
        "counts, bins, _ = plt.hist(\n",
        "    numbers, \n",
        "    bins=bins, \n",
        "    rwidth=0.5\n",
        ")\n",
        "xticks = [x+2 for x in bins]\n",
        "axes = plt.gca() # get a reference to the plot's axes\n",
        "axes.set_xticks(xticks)\n",
        "plt.xlabel('Winning Numbers')\n",
        "plt.ylabel('Count')\n",
        "plt.title('Winning Numbers for Powerball (2020)')\n",
        "plt.show()"
      ],
      "execution_count": 58,
      "outputs": [
        {
          "output_type": "display_data",
          "data": {
            "image/png": "[encoded data removed]",
            "text/plain": [
              "<Figure size 432x288 with 1 Axes>"
            ]
          },
          "metadata": {
            "needs_background": "light"
          }
        }
      ]
    },
    {
      "cell_type": "code",
      "metadata": {
        "colab": {
          "base_uri": "https://localhost:8080/",
          "height": 282
        },
        "id": "5j29rUjNEOHj",
        "outputId": "29767424-7352-4c11-ec85-602efb05754d"
      },
      "source": [
        "# CS390Z - Introduction to Data Minining - Fall 2021\n",
        "# Instructor: Thyago Mota\n",
        "# Description: box plot\n",
        "\n",
        "from google.colab import drive\n",
        "import matplotlib.pyplot as plt \n",
        "\n",
        "# definitions/parameters\n",
        "DATA_FOLDER = '/content/drive/MyDrive/Colab_Datasets/powerball_numbers_data/'\n",
        "DATASET_NAME = 'powerball_numbers_data.json'\n",
        "\n",
        "# Google drive mount\n",
        "# drive.mount('/content/drive')\n",
        "\n",
        "with open(DATA_FOLDER + DATASET_NAME, 'rt') as json_file:\n",
        "  records = json.load(json_file)\n",
        "\n",
        "numbers = []\n",
        "for record in records:\n",
        "  for num in record['numbers']:\n",
        "    numbers.append(num)\n",
        "\n",
        "bp = plt.boxplot(\n",
        "    numbers, \n",
        "    vert=False\n",
        ") \n",
        "for median in bp['medians']:\n",
        "  xy = median.get_xydata()[0]\n",
        "  xy[1] -= .05\n",
        "  plt.annotate(str(xy[0]), xy=xy)\n",
        "    \n",
        "for cap in bp['caps']:\n",
        "  xy = cap.get_xydata()[0]\n",
        "  xy[1] -= .05\n",
        "  plt.annotate(str(xy[0]), xy=xy)\n",
        "\n",
        "min_whisker = bp['caps'][0].get_xydata()[0][0]\n",
        "max_whisker = bp['caps'][1].get_xydata()[0][0]   \n",
        "\n",
        "outliers = []\n",
        "for record in records:\n",
        "  for num in record['numbers']:\n",
        "    if num < min_whisker or num > max_whisker:\n",
        "      outliers.append(num)\n",
        "print('*** Outliers ***')\n",
        "for outlier in outliers:\n",
        "  print(outlier)\n",
        "\n",
        "axes = plt.gca()\n",
        "axes.spines['right'].set_visible(False)\n",
        "axes.spines['top'].set_visible(False)\n",
        "axes.set_yticklabels([''])\n",
        "plt.ylabel('Powerball Winning Numbers (2020)')\n",
        "\n",
        "plt.show()"
      ],
      "execution_count": 61,
      "outputs": [
        {
          "output_type": "stream",
          "name": "stdout",
          "text": [
            "*** Outliers ***\n"
          ]
        },
        {
          "output_type": "display_data",
          "data": {
            "image/png": "[encoded data removed]",
            "text/plain": [
              "<Figure size 432x288 with 1 Axes>"
            ]
          },
          "metadata": {
            "needs_background": "light"
          }
        }
      ]
    },
    {
      "cell_type": "code",
      "metadata": {
        "colab": {
          "base_uri": "https://localhost:8080/",
          "height": 350
        },
        "id": "EZhdlv4eFBGn",
        "outputId": "72772452-974f-45bc-d6a7-3cd98687ac95"
      },
      "source": [
        "# CS390Z - Introduction to Data Minining - Fall 2021\n",
        "# Instructor: Thyago Mota\n",
        "# Description: time series\n",
        "\n",
        "#Another interesting way to look at the data is counting how many even/odd\n",
        "#numbers were there in a given winning drawing.\n",
        "#Here we have a plot of winning number sets in which there were\n",
        "# 0 odd numbers, 1 odd numbers, .. all 5 odd numbers.\n",
        "\n",
        "from google.colab import drive\n",
        "import matplotlib.pyplot as plt \n",
        "from datetime import datetime, timedelta\n",
        "\n",
        "# definitions/parameters\n",
        "DATA_FOLDER = '/content/drive/MyDrive/Colab_Datasets/powerball_numbers_data/'\n",
        "DATASET_NAME = 'powerball_numbers_data.json'\n",
        "\n",
        "# Google drive mount\n",
        "# drive.mount('/content/drive')\n",
        "\n",
        "with open(DATA_FOLDER + DATASET_NAME, 'rt') as json_file:\n",
        "  records = json.load(json_file)\n",
        "\n",
        "odd0 = 0\n",
        "odd1 = 0\n",
        "odd2 = 0\n",
        "odd3 = 0\n",
        "odd4 = 0\n",
        "odd5 = 0\n",
        "\n",
        "odd = 0\n",
        "for record in records:\n",
        "  for num in record['numbers']:\n",
        "    if num % 2 == 1:\n",
        "      odd += 1\n",
        "  if odd == 0:\n",
        "    odd0 += 1\n",
        "  if odd  == 1:\n",
        "    odd1 += 1\n",
        "  if odd == 2:\n",
        "    odd2 += 1\n",
        "  if odd == 3:\n",
        "    odd3 += 1\n",
        "  if odd == 4:\n",
        "    odd4 += 1\n",
        "  if odd == 5:\n",
        "    odd5+=1\n",
        "  \n",
        "  odd = 0\n",
        "\n",
        "oddlist = []\n",
        "oddlist.append([0]*odd0)\n",
        "oddlist.append([1]*odd1)\n",
        "oddlist.append([2]*odd2)\n",
        "oddlist.append([3]*odd3)\n",
        "oddlist.append([4]*odd4)\n",
        "oddlist.append([5]*odd5)\n",
        "#print(oddlist)\n",
        "\n",
        "#verify that the sum of these match the total records\n",
        "# print(odd0)\n",
        "# print(odd1)\n",
        "# print(odd2)\n",
        "# print(odd3)\n",
        "# print(odd4)\n",
        "# print(odd5)\n",
        "\n",
        "bins = list(range(0, 5))\n",
        "counts, bins, _ = plt.hist(\n",
        "    oddlist\n",
        ")\n",
        "\n",
        "plt.xlabel('Odd number count')\n",
        "plt.ylabel('Total Count')\n",
        "plt.title('Odd number counts winning Powerball Jackpots')\n",
        "plt.show()"
      ],
      "execution_count": 92,
      "outputs": [
        {
          "output_type": "stream",
          "name": "stderr",
          "text": [
            "/usr/local/lib/python3.7/dist-packages/numpy/core/_asarray.py:83: VisibleDeprecationWarning: Creating an ndarray from ragged nested sequences (which is a list-or-tuple of lists-or-tuples-or ndarrays with different lengths or shapes) is deprecated. If you meant to do this, you must specify 'dtype=object' when creating the ndarray\n",
            "  return array(a, dtype, copy=False, order=order)\n"
          ]
        },
        {
          "output_type": "display_data",
          "data": {
            "image/png": "[encoded data removed]",
            "text/plain": [
              "<Figure size 432x288 with 1 Axes>"
            ]
          },
          "metadata": {
            "needs_background": "light"
          }
        }
      ]
    }
  ]
}